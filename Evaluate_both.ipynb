{
 "cells": [
  {
   "cell_type": "code",
   "execution_count": 1,
   "metadata": {},
   "outputs": [],
   "source": [
    "import torch\n",
    "import torch.nn as nn\n",
    "import numpy as np"
   ]
  },
  {
   "cell_type": "code",
   "execution_count": 25,
   "metadata": {},
   "outputs": [],
   "source": [
    "max_response_tokens = 30"
   ]
  },
  {
   "cell_type": "code",
   "execution_count": 4,
   "metadata": {},
   "outputs": [],
   "source": [
    "from Architectures.Transformer import Transformer as ScratchModel\n",
    "from Dataset.squad_dataset import Dataset as Dataset1\n",
    "from Architectures.PretrainedBert import Transformer as BertEmbeddings\n",
    "from Dataset.BertTokensSquad_dataset import Dataset as Dataset2"
   ]
  },
  {
   "cell_type": "code",
   "execution_count": 5,
   "metadata": {},
   "outputs": [],
   "source": [
    "device = torch.device('cuda' if torch.cuda.is_available() else 'cpu')"
   ]
  },
  {
   "cell_type": "code",
   "execution_count": 9,
   "metadata": {},
   "outputs": [],
   "source": [
    "ds1 = Dataset1()\n",
    "ds2 = Dataset2()"
   ]
  },
  {
   "attachments": {},
   "cell_type": "markdown",
   "metadata": {},
   "source": [
    "## Load in the models"
   ]
  },
  {
   "cell_type": "code",
   "execution_count": 37,
   "metadata": {},
   "outputs": [],
   "source": [
    "scratch_model = ScratchModel(ds1.vocab, ds1.vocab_hashtable, device=device)\n",
    "scratch_model.load_state_dict(torch.load('Models/trained_scratch_transformer50Epochs.pt'))\n",
    "scratch_model.to(device).eval()\n",
    "\n",
    "bert_embeddings = BertEmbeddings(freeze_embeddings=True, device=device)\n",
    "bert_embeddings.load_state_dict(torch.load('Models/1.34_loss'))\n",
    "bert_embeddings.to(device).eval()\n",
    "pass"
   ]
  },
  {
   "attachments": {},
   "cell_type": "markdown",
   "metadata": {},
   "source": [
    "## Question asking function"
   ]
  },
  {
   "cell_type": "code",
   "execution_count": 51,
   "metadata": {},
   "outputs": [],
   "source": [
    "def eval_both_models(question):\n",
    "    print('Question:', question)\n",
    "    print('Scratch Model Answer:',scratch_model.make_inference(question,max_response_tokens))\n",
    "    print('Bert Embedding Answer:',bert_embeddings.make_inference(question,max_response_tokens))"
   ]
  },
  {
   "attachments": {},
   "cell_type": "markdown",
   "metadata": {},
   "source": [
    "## Sample Questions"
   ]
  },
  {
   "attachments": {},
   "cell_type": "markdown",
   "metadata": {},
   "source": [
    "### Crystal Knowledge"
   ]
  },
  {
   "cell_type": "code",
   "execution_count": 55,
   "metadata": {},
   "outputs": [
    {
     "name": "stdout",
     "output_type": "stream",
     "text": [
      "Question: what is math ?\n",
      "Scratch Model Answer: $ connecting million\n",
      "Bert Embedding Answer: a system of knowledge, algebra, science and technology\n"
     ]
    }
   ],
   "source": [
    "eval_both_models('what is math ?')"
   ]
  },
  {
   "cell_type": "code",
   "execution_count": 158,
   "metadata": {},
   "outputs": [
    {
     "name": "stdout",
     "output_type": "stream",
     "text": [
      "Question: who is the first president of the united states ?\n",
      "Scratch Model Answer: president johnson\n",
      "Bert Embedding Answer: george washington\n"
     ]
    }
   ],
   "source": [
    "eval_both_models('who is the first president of the united states ?')"
   ]
  },
  {
   "cell_type": "code",
   "execution_count": 63,
   "metadata": {},
   "outputs": [
    {
     "name": "stdout",
     "output_type": "stream",
     "text": [
      "Question: what century is george washington from ?\n",
      "Scratch Model Answer: 19th\n",
      "Bert Embedding Answer: 18th\n"
     ]
    }
   ],
   "source": [
    "eval_both_models('what century is george washington from ?')"
   ]
  },
  {
   "cell_type": "code",
   "execution_count": 64,
   "metadata": {},
   "outputs": [
    {
     "name": "stdout",
     "output_type": "stream",
     "text": [
      "Question: who is george washington\n",
      "Scratch Model Answer: washington , later\n",
      "Bert Embedding Answer: one of the most of the president of wales is the united states\n"
     ]
    }
   ],
   "source": [
    "eval_both_models('who is george washington')"
   ]
  },
  {
   "cell_type": "code",
   "execution_count": 66,
   "metadata": {},
   "outputs": [
    {
     "name": "stdout",
     "output_type": "stream",
     "text": [
      "Question: what is the capital of france ?\n",
      "Scratch Model Answer: france\n",
      "Bert Embedding Answer: paris\n"
     ]
    }
   ],
   "source": [
    "eval_both_models('what is the capital of france ?')"
   ]
  },
  {
   "cell_type": "code",
   "execution_count": 121,
   "metadata": {},
   "outputs": [
    {
     "name": "stdout",
     "output_type": "stream",
     "text": [
      "Question: what continent is largest ?\n",
      "Scratch Model Answer: lake custom\n",
      "Bert Embedding Answer: antarctica\n"
     ]
    }
   ],
   "source": [
    "eval_both_models('what continent is largest ?')"
   ]
  },
  {
   "attachments": {},
   "cell_type": "markdown",
   "metadata": {},
   "source": [
    "### Existential questions"
   ]
  },
  {
   "cell_type": "code",
   "execution_count": 69,
   "metadata": {},
   "outputs": [
    {
     "name": "stdout",
     "output_type": "stream",
     "text": [
      "Question: what do you think about darwinism ?\n",
      "Scratch Model Answer: is not resin\n",
      "Bert Embedding Answer: he believed would be \" tamed \" by genomics policy which occurred, and to be defensive solutions. \"\n"
     ]
    }
   ],
   "source": [
    "eval_both_models('what do you think about darwinism ?')"
   ]
  },
  {
   "cell_type": "code",
   "execution_count": 71,
   "metadata": {},
   "outputs": [
    {
     "name": "stdout",
     "output_type": "stream",
     "text": [
      "Question: is fast food good for the soul ?\n",
      "Scratch Model Answer: food and 9 per verify\n",
      "Bert Embedding Answer: dietary of flesh\n"
     ]
    }
   ],
   "source": [
    "eval_both_models('is fast food good for the soul ?')"
   ]
  },
  {
   "attachments": {},
   "cell_type": "markdown",
   "metadata": {},
   "source": [
    "### Logical Reasoning"
   ]
  },
  {
   "cell_type": "code",
   "execution_count": 96,
   "metadata": {},
   "outputs": [
    {
     "name": "stdout",
     "output_type": "stream",
     "text": [
      "Question: when it is spring in the usa it is what season in australia ?\n",
      "Scratch Model Answer: march\n",
      "Bert Embedding Answer: spring\n"
     ]
    }
   ],
   "source": [
    "eval_both_models('when it is spring in the usa it is what season in australia ?')"
   ]
  },
  {
   "cell_type": "code",
   "execution_count": 135,
   "metadata": {},
   "outputs": [
    {
     "name": "stdout",
     "output_type": "stream",
     "text": [
      "Question: should i wash my pile of clothes now\n",
      "Scratch Model Answer: is half of the ending ending is voltage\n",
      "Bert Embedding Answer: warm - up plumbing\n"
     ]
    }
   ],
   "source": [
    "eval_both_models('should i wash my pile of clothes now')"
   ]
  },
  {
   "cell_type": "code",
   "execution_count": 137,
   "metadata": {},
   "outputs": [
    {
     "name": "stdout",
     "output_type": "stream",
     "text": [
      "Question: petrol or coal or oil\n",
      "Scratch Model Answer: less veterans\n",
      "Bert Embedding Answer: renewable\n"
     ]
    }
   ],
   "source": [
    "eval_both_models('petrol or coal or oil')"
   ]
  },
  {
   "cell_type": "code",
   "execution_count": null,
   "metadata": {},
   "outputs": [],
   "source": []
  }
 ],
 "metadata": {
  "kernelspec": {
   "display_name": "Python 3",
   "language": "python",
   "name": "python3"
  },
  "language_info": {
   "codemirror_mode": {
    "name": "ipython",
    "version": 3
   },
   "file_extension": ".py",
   "mimetype": "text/x-python",
   "name": "python",
   "nbconvert_exporter": "python",
   "pygments_lexer": "ipython3",
   "version": "3.10.11"
  },
  "orig_nbformat": 4
 },
 "nbformat": 4,
 "nbformat_minor": 2
}
